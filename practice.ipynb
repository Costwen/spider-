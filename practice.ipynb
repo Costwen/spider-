{
 "cells": [
  {
   "cell_type": "markdown",
   "metadata": {},
   "source": [
    "# 前提知识"
   ]
  },
  {
   "cell_type": "markdown",
   "metadata": {},
   "source": [
    "爬虫：自动化的模拟人类向服务器发送请求，获取网页的数据\n",
    "\n",
    "可以理解为：打开网页 CTRL+A CTRL+C  CTRL+V\n",
    "\n",
    "用途：\n",
    "\n",
    "1.自动化:抢票、刷票等\n",
    "\n",
    "2.数据：搜索引擎、数据分析、ML\\DL等\n",
    "\n",
    "<font face='黑体' size=4> Robots协议 </font>\n",
    "\n",
    "作用:告知爬虫哪些目录下的网站可以爬取，哪些不可以爬取\n"
   ]
  },
  {
   "cell_type": "markdown",
   "metadata": {},
   "source": [
    "<img src='images/robots.png' width=400 height=400 align=left>"
   ]
  },
  {
   "cell_type": "markdown",
   "metadata": {},
   "source": [
    "问题：不能从技术手段上限制爬虫\n",
    "\n",
    "爬虫带来的危害：\n",
    "\n",
    "1.侵犯著作权\n",
    "\n",
    "2.侵犯商业机密\n",
    "\n",
    "3.侵犯个人隐私\n",
    "\n",
    "4.侵入计算机系统\n",
    "\n",
    "…\n",
    "\n",
    "\n",
    "相关法律：我国相关爬虫法还未完善"
   ]
  },
  {
   "cell_type": "markdown",
   "metadata": {},
   "source": [
    "<font face='黑体' size=4> URL简介 </font>\n",
    "\n",
    "<img src='images/url0.png' >"
   ]
  },
  {
   "cell_type": "markdown",
   "metadata": {},
   "source": [
    "scheme:传输信息时用的协议，常用的有 http,https,ftp,file,thunder\n",
    "\n",
    "host:合法的Internet主机域名或者IP地址\n",
    " \n",
    "port:端口号，缺少时不同的协议默认端口号不同。如http默认为\n",
    "\n",
    "path:请求资源的路径\n",
    "\n",
    "\n"
   ]
  },
  {
   "cell_type": "markdown",
   "metadata": {},
   "source": [
    "\n",
    "\n",
    "<font face='黑体' size=4> http请求 </font>"
   ]
  },
  {
   "cell_type": "markdown",
   "metadata": {},
   "source": [
    "<img src='images/http1.png' width=400 height=400>"
   ]
  },
  {
   "cell_type": "markdown",
   "metadata": {},
   "source": [
    "<font face='黑体' size=4> 网页的呈现 </font>\n",
    "\n",
    "1.浏览器向服务器发送请求\n",
    "\n",
    "2.服务器拿到请求，做相关处理，返回分装好的响应报文\n",
    "\n",
    "3.浏览器拿到响应报文，根据此来渲染网页\n",
    "\n",
    "http协议：\n",
    "\n",
    "全名HyperText Transfer Protocol（超文本传输协议），是服务器和浏览器之间的进行沟通的规范。\n",
    "\n",
    "本质上就是一种通信协议。有着简单快速，无连接，无状态等特点。\n"
   ]
  },
  {
   "cell_type": "markdown",
   "metadata": {},
   "source": [
    "<img src='images/http2.jpg' width=500 height=500>"
   ]
  },
  {
   "cell_type": "markdown",
   "metadata": {},
   "source": [
    "1、①是请求方法，HTTP/1.1 定义的请求方法有8种\n",
    "\n",
    "2、②为请求对应的URL地址，它和报文头的Host属性组成完整的请求URL\n",
    "\n",
    "3、③是协议名称及版本号\n",
    "\n",
    "4、④是HTTP的报文头，报文头包含若干个属性，格式为“属性名:属性值”，服务端据此获取客户端的信息\n",
    "\n",
    "5、⑤是报文体，它将一个页面表单中的组件值通过param1=value1&param2=value2的键值对形式编码成一个格式化串，它承载多个请求参数的数据。\n",
    "\n",
    "请求URL=“/chapter15/user.html? name=tom&password=1234&realName=tomson”\n"
   ]
  },
  {
   "cell_type": "markdown",
   "metadata": {},
   "source": [
    "<img src='images/http3.jpg' width=500 height=500>"
   ]
  },
  {
   "cell_type": "markdown",
   "metadata": {},
   "source": [
    "<font face='黑体' size=4> 状态响应码 </font>\n",
    "\n",
    "1**  服务器受到请求，需要请求者继续执行操作\n",
    "\n",
    "2**  成功，操作被成功接受并且处理\n",
    "\n",
    "3** 重定向，需要进一步的操作来 完成请求\n",
    "\n",
    "4** 客户端错误，请求包含语法错误或者无法完成\n",
    "\n",
    "5** 服务器错误，服务器在请求的过程中发生错误\n",
    "\n",
    "常见的 200 404\n"
   ]
  },
  {
   "cell_type": "markdown",
   "metadata": {},
   "source": [
    "# requests库简介"
   ]
  },
  {
   "cell_type": "code",
   "execution_count": 1,
   "metadata": {},
   "outputs": [],
   "source": [
    "import requests\n",
    "url=\"http://www.baidu.com\"\n",
    "r=requests.get(url)       # 获得名为r的response对象，通过r取得我们所想要的信息\n",
    "# print(r.status_code)      # http请求返回状态   200代表成功\n",
    "# print(r.text)             # http相应内容的字符串形式，即url对应的页面内容\n",
    "# print(r.encoding)         # http中猜测的响应内容编码格式\n",
    "# print(r.apparent_encoding)# 从内容之中分析出来的响应内容的解码方式\n",
    "# print(r.content)          # http响应内容的二进制形式 "
   ]
  },
  {
   "cell_type": "markdown",
   "metadata": {},
   "source": [
    "<font face='黑体' size=4> 如何保存图片 </font>"
   ]
  },
  {
   "cell_type": "code",
   "execution_count": 2,
   "metadata": {},
   "outputs": [],
   "source": [
    "url=\"https://imgsa.baidu.com/forum/w%3D580%3B/sign=0305e1ddcccec3fd8b3ea77de6b3d43f/83025aafa40f4bfb41fa82450c4f78f0f73618fc.jpg\"\n",
    "r=requests.get(url)\n",
    "with open(\"败犬.jpg\",'wb') as f:\n",
    "    f.write(r.content)\n",
    "f.close()"
   ]
  },
  {
   "cell_type": "markdown",
   "metadata": {},
   "source": [
    "<font face='黑体' size=4> 几种常见的编码方式 </font>\n",
    "\n",
    "ASCLL: 包含0-9数字 英文大小写和一些特殊字符\n",
    "\n",
    "ISO: 国际标准组织(ISO)针对不同的字母表/语言定义的标准字符集\n",
    "\n",
    "ISO-8859-1使用范围:北美、西欧、拉丁美洲等地\n",
    "\n",
    "Unicode:Unicode联盟开发的Unicode标准，几乎涵盖了世界上所有的字符、标点和符号，utf-8是其实现的一种方式"
   ]
  },
  {
   "cell_type": "markdown",
   "metadata": {},
   "source": [
    "<font face='黑体' size=4> 其他请求方式 </font>"
   ]
  },
  {
   "cell_type": "code",
   "execution_count": 19,
   "metadata": {},
   "outputs": [],
   "source": [
    "r = requests.post('http://httpbin.org/post', data = {'key':'value'}) \n",
    "r = requests.put('http://httpbin.org/put', data = {'key':'value'})\n",
    "r = requests.delete('http://httpbin.org/delete')\n",
    "r = requests.head('http://httpbin.org/get')"
   ]
  },
  {
   "cell_type": "markdown",
   "metadata": {},
   "source": [
    "post 请求获取url位置的资源，和get方式类似，但传递的参数方式为form表单/json数据，更为安全\n",
    "\n",
    "put 请求向url位置储存一个资源，覆盖原来url位置的资源\n",
    "\n",
    "delete 请求删除url位置储存的资源\n",
    "\n",
    "head 请求获取url位置资源的响应消息报告"
   ]
  },
  {
   "cell_type": "markdown",
   "metadata": {},
   "source": [
    "<font face='黑体' size=5> 传入参数简介 </font>"
   ]
  },
  {
   "cell_type": "markdown",
   "metadata": {},
   "source": [
    "<font face='黑体' size=4> params </font>\n",
    "\n",
    "作为参数增加到url之中 格式为字典等"
   ]
  },
  {
   "cell_type": "code",
   "execution_count": 20,
   "metadata": {},
   "outputs": [],
   "source": [
    "params={\n",
    "    \"wd\":\"北京航空航天大学\"\n",
    "}\n",
    "url=\"http://www.baidu.com/s\"\n",
    "r=requests.get(url,params=params)\n",
    "# print(r.url)\n",
    "# print(r.text)"
   ]
  },
  {
   "cell_type": "markdown",
   "metadata": {},
   "source": [
    "Cookies  \n",
    "\n",
    "出现的原因:  HTTP的五大特点 无状态 每一次请求都是完全独立的(不能交互)\n",
    "\n",
    "于是1994年 Lou Montulli  提出来了cookies这个概念，将它用于网上购物的购物车历史记录之中\n",
    "\n",
    "定义：由服务器发给客户端的特殊信息，这些信息以文本文件的方式存放在客户端，然后客户端向服务器发送请求的时候将会带上这些特殊的信息，用于服务器记录客户端的状态"
   ]
  },
  {
   "cell_type": "markdown",
   "metadata": {},
   "source": [
    "<font face='黑体' size=4> 流程 </font>\n",
    "\n",
    "<img src='images/cooikes.png' width=500 height=500>"
   ]
  },
  {
   "cell_type": "markdown",
   "metadata": {},
   "source": [
    "\n",
    "<font face='黑体' size=4> 属性 </font>\n",
    "\n",
    "一个Cookie有Name、Value、Domain、path、Expires/Max-Age、Size等属性\n",
    "\n",
    "Name表示Cookie的名称 \n",
    "\n",
    "Value表示Cookie的值 \n",
    "\n",
    "Domain表示可以访问该Cookie的域名\n",
    "\n",
    "Path表示可以访问此cookie的页面路径\n",
    "\n",
    "Expires/Max-Age表示此cookie的超时时间，达到此时间之后cookie将会失效，默认为session，及窗口关闭之后会失效\n",
    "\n",
    "Size:Name+Value的字符数"
   ]
  },
  {
   "cell_type": "code",
   "execution_count": 7,
   "metadata": {},
   "outputs": [
    {
     "name": "stdout",
     "output_type": "stream",
     "text": [
      "{'BAIDUID': '122260199F4639DFDED7091300D0F41B:FG=1', 'BIDUPSID': '122260199F4639DF346F970F3E596F04', 'H_PS_PSSID': '1422_21116_18560_29568_29700_29221_26350_22160', 'PSINO': '1', 'PSTM': '1573299634', 'delPer': '0', 'BDSVRTM': '11', 'BD_CK_SAM': '1'}\n"
     ]
    }
   ],
   "source": [
    "print(r.cookies.get_dict()) #r.cookies 获取全部的cookies get_dict() 表示返回的类型为字典类型"
   ]
  },
  {
   "cell_type": "markdown",
   "metadata": {},
   "source": [
    "<font face='黑体' size=4> timeout </font> \n",
    "\n",
    "设置响应的时间，防止服务器响应时间过长，超过时间将自动断开连接"
   ]
  },
  {
   "cell_type": "code",
   "execution_count": 22,
   "metadata": {},
   "outputs": [],
   "source": [
    "r=requests.get(url,timeout=10)     # 传入一个参数 则表示连接时间和读取时间的总和\n",
    "r=requests.get(url,timeout=(3,7))  # 传入一个元组，前者表示连接时间，后者表示读取时间"
   ]
  },
  {
   "cell_type": "markdown",
   "metadata": {},
   "source": [
    "<font face='黑体' size=4> headers </font> \n",
    "\n",
    "为请求添加headers信息，传入的形式为字典"
   ]
  },
  {
   "cell_type": "code",
   "execution_count": 23,
   "metadata": {},
   "outputs": [],
   "source": [
    "r=requests.get(url)\n",
    "# print(r.headers)\n",
    "headers={\n",
    "    'Accept':'text/plain, */*; q=0.01',\n",
    "    'Accept-Encoding':'gzip, deflate, br',\n",
    "    'Accept-Language':'zh-CN,zh;q=0.9',\n",
    "    'Connection':'keep-alive',\n",
    "    'User-Agent': 'Mozilla/5.0 (Windows NT 10.0; Win64; x64) AppleWebKit/537.36 (KHTML, like Gecko) Chrome/77.0.3865.90 Safari/537.36'\n",
    "}\n",
    "r=requests.get(url,headers=headers)\n",
    "# print(r.headers)"
   ]
  },
  {
   "cell_type": "markdown",
   "metadata": {},
   "source": [
    "<font face='黑体' size=4> proxies</font>\n",
    "\n",
    "代理服务器，格式为字典"
   ]
  },
  {
   "cell_type": "code",
   "execution_count": 25,
   "metadata": {},
   "outputs": [],
   "source": [
    "pxs={\n",
    "    \"http\":\"ip1\"\n",
    "    \"https\":\"ip2\"\n",
    "}\n",
    "r=requests.get(url,proxies=pxs)"
   ]
  },
  {
   "cell_type": "markdown",
   "metadata": {},
   "source": [
    "一般的代码框架"
   ]
  },
  {
   "cell_type": "code",
   "execution_count": 2,
   "metadata": {},
   "outputs": [],
   "source": [
    "def getHTMLText(url):\n",
    "    try:\n",
    "        r = requests.get(url)\n",
    "        r.raise_for_status()    #如果发出错误的请求 ，则会抛出异常 \n",
    "        r.encoding=r.apparent_encoding\n",
    "        return r.text\n",
    "    except:\n",
    "        return \"ERROR\""
   ]
  },
  {
   "cell_type": "code",
   "execution_count": null,
   "metadata": {},
   "outputs": [],
   "source": [
    "url=\"http://httpbin.org/status/404\"\n",
    "r=getHTMLText(url)\n",
    "# print(\"404:  \",r)\n",
    "url=\"http://httpbin.org/status/200\"\n",
    "r=getHTMLText(url)\n",
    "# print(\"200:  \",r)"
   ]
  },
  {
   "cell_type": "markdown",
   "metadata": {},
   "source": [
    "# HTML 标签"
   ]
  },
  {
   "cell_type": "raw",
   "metadata": {},
   "source": [
    "HTML网页的设计可以理解为一个一个的表格组成的在一起 其中表格和表格之间也可以相互嵌套\n",
    "\n",
    "其中大部分的标签是成对出现的,中间放置想要显示的内容\n",
    "\n",
    "<html> </html> 主体\n",
    "<head> </ead>\n",
    "<title> </title> 标题 \n",
    "<body> </body> 显示部分\n",
    "<p>  </p> 分段\n",
    "<table> </table> 表格\n",
    "<a heaf=\"路径\"> </a>  超链接\n",
    "<img src=\"路径\"> 显示图片\n",
    "可以添加这个表格的属性 \n",
    "width=200px   表格的宽度  height=200px 表格的高度\n",
    "border=5px    表格的边框的宽度   \n",
    "align = \"center left right\" valign=\"top middle bottom\" 表格显示的位置\n",
    "<tr> </tr> 行\n",
    "<td> </td> 列\n",
    "<div class=\"名称\"> </div>"
   ]
  },
  {
   "cell_type": "markdown",
   "metadata": {},
   "source": [
    "# Beautiful Soup 库"
   ]
  },
  {
   "cell_type": "markdown",
   "metadata": {},
   "source": [
    "Beautiful Soup将复杂HTML文档转换成一个树形结构,每个节点都是Python对象。总结下来有4种对象"
   ]
  },
  {
   "cell_type": "code",
   "execution_count": 4,
   "metadata": {},
   "outputs": [
    {
     "ename": "NameError",
     "evalue": "name 'getHTMLText' is not defined",
     "output_type": "error",
     "traceback": [
      "\u001b[1;31m---------------------------------------------------------------------------\u001b[0m",
      "\u001b[1;31mNameError\u001b[0m                                 Traceback (most recent call last)",
      "\u001b[1;32m<ipython-input-4-c992e667c817>\u001b[0m in \u001b[0;36m<module>\u001b[1;34m\u001b[0m\n\u001b[0;32m      1\u001b[0m \u001b[1;32mfrom\u001b[0m \u001b[0mbs4\u001b[0m \u001b[1;32mimport\u001b[0m \u001b[0mBeautifulSoup\u001b[0m\u001b[1;33m\u001b[0m\u001b[1;33m\u001b[0m\u001b[0m\n\u001b[0;32m      2\u001b[0m \u001b[0murl\u001b[0m\u001b[1;33m=\u001b[0m\u001b[1;34m\"http://www.baidu.com\"\u001b[0m\u001b[1;33m\u001b[0m\u001b[1;33m\u001b[0m\u001b[0m\n\u001b[1;32m----> 3\u001b[1;33m \u001b[0mr\u001b[0m\u001b[1;33m=\u001b[0m\u001b[0mgetHTMLText\u001b[0m\u001b[1;33m(\u001b[0m\u001b[0murl\u001b[0m\u001b[1;33m)\u001b[0m\u001b[1;33m\u001b[0m\u001b[1;33m\u001b[0m\u001b[0m\n\u001b[0m\u001b[0;32m      4\u001b[0m \u001b[0msoup\u001b[0m\u001b[1;33m=\u001b[0m\u001b[0mBeautifulSoup\u001b[0m\u001b[1;33m(\u001b[0m\u001b[0mr\u001b[0m\u001b[1;33m,\u001b[0m\u001b[1;34m\"html.parser\"\u001b[0m\u001b[1;33m)\u001b[0m\u001b[1;31m# html.parser是bs4库的html的解析器   类似的还有 lxml的html解析器和xml解析器\u001b[0m\u001b[1;33m\u001b[0m\u001b[1;33m\u001b[0m\u001b[0m\n\u001b[0;32m      5\u001b[0m \u001b[1;31m# print(soup.prettify())\u001b[0m\u001b[1;33m\u001b[0m\u001b[1;33m\u001b[0m\u001b[1;33m\u001b[0m\u001b[0m\n",
      "\u001b[1;31mNameError\u001b[0m: name 'getHTMLText' is not defined"
     ]
    }
   ],
   "source": [
    "from bs4 import BeautifulSoup\n",
    "url=\"http://www.baidu.com\"\n",
    "r=getHTMLText(url)\n",
    "soup=BeautifulSoup(r,\"html.parser\")# html.parser是bs4库的html的解析器   类似的还有 lxml的html解析器和xml解析器\n",
    "# print(soup.prettify())"
   ]
  },
  {
   "cell_type": "markdown",
   "metadata": {},
   "source": [
    "<font face='黑体' size=4> Tag </font>\n",
    "\n",
    "一个Tag有两个重要的属性 name 和 attrs"
   ]
  },
  {
   "cell_type": "code",
   "execution_count": 36,
   "metadata": {},
   "outputs": [],
   "source": [
    "# print (soup.a)\n",
    "# print (type(soup.title))\n",
    "# print(soup.a.attrs)\n",
    "# print(soup.a.name)"
   ]
  },
  {
   "cell_type": "markdown",
   "metadata": {},
   "source": [
    "<font face='黑体' size=4> NavigableString </font>  可遍历的字符串"
   ]
  },
  {
   "cell_type": "code",
   "execution_count": 37,
   "metadata": {},
   "outputs": [
    {
     "name": "stdout",
     "output_type": "stream",
     "text": [
      "新闻\n",
      "<class 'bs4.element.NavigableString'>\n"
     ]
    }
   ],
   "source": [
    "print (soup.a.string)\n",
    "print(type(soup.a.string))"
   ]
  },
  {
   "cell_type": "markdown",
   "metadata": {},
   "source": [
    "<font face='黑体' size=4> BeautifulSoup</font> "
   ]
  },
  {
   "cell_type": "code",
   "execution_count": 39,
   "metadata": {},
   "outputs": [
    {
     "name": "stdout",
     "output_type": "stream",
     "text": [
      "<class 'bs4.BeautifulSoup'>\n"
     ]
    }
   ],
   "source": [
    "print(type(soup))"
   ]
  },
  {
   "cell_type": "markdown",
   "metadata": {},
   "source": [
    "<font face='黑体' size=4> Comment</font> "
   ]
  },
  {
   "cell_type": "markdown",
   "metadata": {},
   "source": [
    "注释  可以说是一种特殊类型的NavigableString类型"
   ]
  },
  {
   "cell_type": "markdown",
   "metadata": {},
   "source": [
    "<font face='黑体' size=4> 遍历子节点</font> "
   ]
  },
  {
   "cell_type": "code",
   "execution_count": 31,
   "metadata": {},
   "outputs": [],
   "source": [
    "# for x in soup.body.children:\n",
    "#     print(x)\n",
    "# for x in soup.body.descendants:\n",
    "#     print(x,'\\n')"
   ]
  },
  {
   "cell_type": "markdown",
   "metadata": {},
   "source": [
    "<font face='黑体' size=4> find和find_all方法 </font>"
   ]
  },
  {
   "cell_type": "markdown",
   "metadata": {},
   "source": [
    "find和find_all 方法 其中find只会返回第一个对象的 而find_all返回的是一个列表\n",
    "\n",
    "find(name,attrs,recursive,text,**wargs)\n",
    "\n",
    "基于标签名称的查找\n",
    "\n",
    "基于正则表达式的查找\n",
    "\n",
    "基于属性的查找"
   ]
  },
  {
   "cell_type": "code",
   "execution_count": 35,
   "metadata": {},
   "outputs": [],
   "source": [
    "# f=soup.find('a')\n",
    "# print(f)\n",
    "# print(f.name)  #返回标签的名称\n",
    "# print(f.string)  #返回标签之中的内容\n",
    "# print(f.attrs) #返回标签之中的属性 \n",
    "# print(f['href'])\n",
    "# f=soup.find_all('a')\n",
    "# for i in f:\n",
    "#     print(i)"
   ]
  },
  {
   "cell_type": "code",
   "execution_count": 52,
   "metadata": {},
   "outputs": [
    {
     "name": "stdout",
     "output_type": "stream",
     "text": [
      "<a class=\"mnav\" href=\"http://news.baidu.com\" name=\"tj_trnews\">新闻</a>\n",
      "<a class=\"mnav\" href=\"http://www.hao123.com\" name=\"tj_trhao123\">hao123</a>\n",
      "<a class=\"mnav\" href=\"http://map.baidu.com\" name=\"tj_trmap\">地图</a>\n",
      "<a class=\"mnav\" href=\"http://v.baidu.com\" name=\"tj_trvideo\">视频</a>\n",
      "<a class=\"mnav\" href=\"http://tieba.baidu.com\" name=\"tj_trtieba\">贴吧</a>\n",
      "<a class=\"lb\" href=\"http://www.baidu.com/bdorz/login.gif?login&amp;tpl=mn&amp;u=http%3A%2F%2Fwww.baidu.com%2f%3fbdorz_come%3d1\" name=\"tj_login\">登录</a>\n",
      "<a class=\"bri\" href=\"//www.baidu.com/more/\" name=\"tj_briicon\" style=\"display: block;\">更多产品</a>\n",
      "<a href=\"http://home.baidu.com\">关于百度</a>\n",
      "<a href=\"http://ir.baidu.com\">About Baidu</a>\n",
      "<a href=\"http://www.baidu.com/duty/\">使用百度前必读</a>\n",
      "<a class=\"cp-feedback\" href=\"http://jianyi.baidu.com/\">意见反馈</a>\n"
     ]
    }
   ],
   "source": [
    "import re\n",
    "for x in soup.find_all(re.compile(r'^a')):\n",
    "    print(x)"
   ]
  },
  {
   "cell_type": "markdown",
   "metadata": {},
   "source": [
    "<img src='images/re1.png' width=500 height=500>"
   ]
  },
  {
   "cell_type": "markdown",
   "metadata": {},
   "source": [
    "<img src='images/re2.png' width=500 height=500>"
   ]
  },
  {
   "cell_type": "markdown",
   "metadata": {},
   "source": [
    "<img src='images/re3.png' width=400 height=400>"
   ]
  },
  {
   "cell_type": "markdown",
   "metadata": {},
   "source": [
    "# 样例"
   ]
  },
  {
   "cell_type": "markdown",
   "metadata": {},
   "source": [
    "如何制作一张图片：\n",
    "\n",
    "1.爬取文章或评论\n",
    "\n",
    "2.对爬取的数据进行清洗\n",
    "\n",
    "3.进行数据的统计\n",
    "\n",
    "4.通过python一些库绘制图表\n"
   ]
  },
  {
   "cell_type": "markdown",
   "metadata": {},
   "source": [
    "# jieba库"
   ]
  },
  {
   "cell_type": "code",
   "execution_count": 15,
   "metadata": {},
   "outputs": [],
   "source": [
    "import jieba\n",
    "seg_list =jieba.cut(\"我来到北京航空航天大学\",cut_all=True)\n",
    "# print(\"Full Mode: \"+'/'.join(seg_list))   #全模式\n",
    "seg_list =jieba.cut(\"我来到北京航空航天大学\",cut_all=False)\n",
    "# print(\"Defalut Mode: \"+'/'.join(seg_list))   #精确模式"
   ]
  },
  {
   "cell_type": "code",
   "execution_count": 17,
   "metadata": {},
   "outputs": [],
   "source": [
    "seg_list1 = jieba.cut(\"我来到北京航空航天大学\")\n",
    "seg_list2 = jieba.lcut(\"我来到北京航空航天大学\")`\n",
    "# print(type(seg_list1),type(seg_list2))"
   ]
  },
  {
   "cell_type": "code",
   "execution_count": 21,
   "metadata": {},
   "outputs": [
    {
     "name": "stdout",
     "output_type": "stream",
     "text": [
      "我 r\n",
      "来到 v\n",
      "北京航空航天大学 nt\n"
     ]
    }
   ],
   "source": [
    "import jieba.posseg\n",
    "seg_list = jieba.posseg.cut(\"我来到北京航空航天大学\")\n",
    "for word,flag in seg_list:\n",
    "      print(word,flag)"
   ]
  },
  {
   "cell_type": "markdown",
   "metadata": {},
   "source": [
    "r: 代词   v: 动词    nt:机构团体"
   ]
  },
  {
   "cell_type": "markdown",
   "metadata": {},
   "source": [
    "可以参考jieba分词的官方文档:https://github.com/fxsjy/jieba/blob/master/README.md"
   ]
  },
  {
   "cell_type": "markdown",
   "metadata": {},
   "source": [
    "# wordcould库"
   ]
  },
  {
   "cell_type": "markdown",
   "metadata": {},
   "source": [
    "# https://pyecharts.org"
   ]
  },
  {
   "cell_type": "code",
   "execution_count": null,
   "metadata": {},
   "outputs": [],
   "source": []
  }
 ],
 "metadata": {
  "file_extension": ".py",
  "kernelspec": {
   "display_name": "Python 3",
   "language": "python",
   "name": "python3"
  },
  "language_info": {
   "codemirror_mode": {
    "name": "ipython",
    "version": 3
   },
   "file_extension": ".py",
   "mimetype": "text/x-python",
   "name": "python",
   "nbconvert_exporter": "python",
   "pygments_lexer": "ipython3",
   "version": "3.7.3"
  },
  "mimetype": "text/x-python",
  "name": "python",
  "npconvert_exporter": "python",
  "pygments_lexer": "ipython3",
  "version": 3
 },
 "nbformat": 4,
 "nbformat_minor": 2
}
